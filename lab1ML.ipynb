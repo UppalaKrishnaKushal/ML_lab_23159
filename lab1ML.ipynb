{
 "cells": [
  {
   "cell_type": "markdown",
   "id": "52895581-d7a5-4afd-923c-0b7c1359956a",
   "metadata": {},
   "source": [
    "# 1.Consider the given list as [2, 7, 4, 1, 3, 6]. Write a program to count pairs of elements with sum equal to 10."
   ]
  },
  {
   "cell_type": "code",
   "execution_count": 2,
   "id": "6f58297d-0439-46fb-97f8-9868b27afba3",
   "metadata": {},
   "outputs": [
    {
     "name": "stdout",
     "output_type": "stream",
     "text": [
      "number of pairs with sum 10: 2\n"
     ]
    }
   ],
   "source": [
    "def count_pairs_with_sum(num):\n",
    "    c=0\n",
    "    n=len(num)\n",
    "    for i in range(n):\n",
    "        for j in range (i +1, n):\n",
    "            if num[i] + num[j] == 10:\n",
    "                c += 1\n",
    "    return c\n",
    "\n",
    "num = [2,3,4,5,6,7]\n",
    "result =  count_pairs_with_sum(num)\n",
    "print(\"number of pairs with sum 10:\",result)\n"
   ]
  },
  {
   "cell_type": "markdown",
   "id": "e69d2040-00aa-4069-95c4-22021280ff45",
   "metadata": {},
   "source": [
    "# 2. Write a program that takes a list of real numbers as input and returns the range (difference between minimum and maximum) of the list. Check for list being less than 3 elements in which case return an error message (Ex: “Range determination not possible”). Given a list [5,3,8,1,0,4], the range is 8 (8-0). "
   ]
  },
  {
   "cell_type": "code",
   "execution_count": 3,
   "id": "40e75d0d-6fa5-4faa-ba12-82480ac967bb",
   "metadata": {},
   "outputs": [
    {
     "name": "stdout",
     "output_type": "stream",
     "text": [
      "range of list: 8\n"
     ]
    }
   ],
   "source": [
    "def cal_range(num):\n",
    "    if len(num) < 3:\n",
    "        return \"not possible\"\n",
    "    maximum = max(num)\n",
    "    minimum = min(num)\n",
    "    return maximum - minimum\n",
    "\n",
    "input_list = [5,3,8,1,0,4]\n",
    "range_result = cal_range(input_list)\n",
    "print(\"range of list:\",range_result)\n",
    "        "
   ]
  },
  {
   "cell_type": "markdown",
   "id": "73f042a3-a431-45ec-a1cd-899d441f02ba",
   "metadata": {},
   "source": [
    "# 3)Write a program that accepts a square matrix A and a positive integer m as arguments and returns Am. "
   ]
  },
  {
   "cell_type": "code",
   "execution_count": 22,
   "id": "6e4d729b-5f5f-43c9-8871-36ad28d20f82",
   "metadata": {},
   "outputs": [
    {
     "name": "stdout",
     "output_type": "stream",
     "text": [
      "[7, 10]\n",
      "[15, 22]\n"
     ]
    }
   ],
   "source": [
    "def mulmat(m1,m2):\n",
    "    leng = len(m1)\n",
    "    res = [[0 for _ in range(leng)] for _ in range(leng)]\n",
    "    for i in range(leng):\n",
    "        for j in range(leng):\n",
    "            for k in range(leng):\n",
    "                res[i][j] += m1[i][k]*m2[k][j]\n",
    "    return res\n",
    "def matpow(mat,pow):\n",
    "    if pow <= 0:\n",
    "       return \"invalid/not possible\"\n",
    "    size = len(mat)\n",
    "    res = [[1 if i == j else 0 for j in range (size)]for i in range(size)]\n",
    "    for _ in range(pow):\n",
    "        res = mulmat(res,mat)\n",
    "        \n",
    "    return res\n",
    "ipmat = [\n",
    "    [1,2],\n",
    "    [3,4]\n",
    "]\n",
    "num = 2\n",
    "result_mat = matpow(ipmat,num)\n",
    "for row in result_mat:\n",
    "    print(row)\n",
    "\n",
    "           "
   ]
  },
  {
   "cell_type": "markdown",
   "id": "bfe6428a-28cd-446f-9e2d-9609a1f96a81",
   "metadata": {},
   "source": [
    "# 5. Generate a list of 25 random numbers between 1 and 10. Find the mean, median and mode for these numbers. "
   ]
  },
  {
   "cell_type": "code",
   "execution_count": 16,
   "id": "4d041c05-41cf-40e8-93ef-c7c60be2b9cc",
   "metadata": {},
   "outputs": [
    {
     "name": "stdout",
     "output_type": "stream",
     "text": [
      "Random Numbers: [5, 5, 7, 9, 4, 9, 7, 10, 10, 3, 1, 5, 3, 7, 10, 7, 1, 6, 7, 7, 1, 9, 10, 5, 6]\n",
      "Mean: 6.16\n",
      "Median: 7\n",
      "Mode: 7\n"
     ]
    }
   ],
   "source": [
    "import random\n",
    "\n",
    "def gen_ran_list():\n",
    "    return [random.randint(1, 10) for _ in range(25)]\n",
    "\n",
    "def cal_mean(number):\n",
    "    return sum(number) / len(number)\n",
    "\n",
    "def cal_med(number):\n",
    "    s_list = sorted(number)\n",
    "    n = len(s_list)\n",
    "    middle = n // 2\n",
    "\n",
    "    if n % 2 == 1:\n",
    "        return s_list[middle]\n",
    "    else:\n",
    "        return (s_list[middle - 1] + s_list[middle]) / 2\n",
    "\n",
    "def cal_mode(number):\n",
    "    freq = {}\n",
    "    max_freq = 0\n",
    "    m_value = None\n",
    "\n",
    "    for num in number:\n",
    "        freq[num] = freq.get(num, 0) + 1\n",
    "\n",
    "        \n",
    "        if freq[num] > max_freq or (freq[num] == max_freq and (m_value is None or num < m_value)):\n",
    "            max_freq = freq[num]\n",
    "            m_value = num\n",
    "\n",
    "    return m_value\n",
    "\n",
    "random_numbers = gen_ran_list()\n",
    "mean_val = cal_mean(random_numbers)\n",
    "median_val = cal_med(random_numbers)\n",
    "mode_val = cal_mode(random_numbers)\n",
    "\n",
    "print(\"Random Numbers:\", random_numbers)\n",
    "print(\"Mean:\", mean_val)\n",
    "print(\"Median:\", median_val)\n",
    "print(\"Mode:\", mode_val)"
   ]
  },
  {
   "cell_type": "markdown",
   "id": "13f9beda-49b8-44e0-b9d6-bf61d5ccea40",
   "metadata": {},
   "source": [
    "# 4. Write a program to count the highest occurring character & its occurrence count in an input string. Consider only alphabets. Ex:  for “hippopotamus” as input string, the maximally occurring character is ‘p’ & occurrence count is 3. "
   ]
  },
  {
   "cell_type": "code",
   "execution_count": 4,
   "id": "9555e4af-c2df-4753-a5be-f66232092a9f",
   "metadata": {},
   "outputs": [
    {
     "name": "stdout",
     "output_type": "stream",
     "text": [
      "Highest occurring character: p\n",
      "Occurrence count: 3\n"
     ]
    }
   ],
   "source": [
    "def highest_occur(input_str):\n",
    "    freq = {}\n",
    "    for char in input_str:\n",
    "        if char.isalpha():\n",
    "            char = char.lower()\n",
    "            freq[char] = freq.get(char, 0) + 1\n",
    "    if not freq:\n",
    "        return None, 0\n",
    "    maximum_char = max(freq, key=freq.get)\n",
    "    return maximum_char, freq[maximum_char]\n",
    "\n",
    "\n",
    "input_str = \"hippopotamus\"\n",
    "char, c = highest_occur(input_str)\n",
    "print(\"Highest occurring character:\", char)\n",
    "print(\"Occurrence count:\", c)\n",
    "\n"
   ]
  },
  {
   "cell_type": "code",
   "execution_count": null,
   "id": "d2c69802-a824-4b20-aefc-78ca4fa0dfee",
   "metadata": {},
   "outputs": [],
   "source": []
  },
  {
   "cell_type": "code",
   "execution_count": null,
   "id": "543d3943-bc9f-4c79-89c9-f950cb9e1656",
   "metadata": {},
   "outputs": [],
   "source": []
  }
 ],
 "metadata": {
  "kernelspec": {
   "display_name": "Python 3 (ipykernel)",
   "language": "python",
   "name": "python3"
  },
  "language_info": {
   "codemirror_mode": {
    "name": "ipython",
    "version": 3
   },
   "file_extension": ".py",
   "mimetype": "text/x-python",
   "name": "python",
   "nbconvert_exporter": "python",
   "pygments_lexer": "ipython3",
   "version": "3.12.7"
  }
 },
 "nbformat": 4,
 "nbformat_minor": 5
}
